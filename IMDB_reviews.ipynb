{
  "nbformat": 4,
  "nbformat_minor": 0,
  "metadata": {
    "colab": {
      "name": "Untitled1.ipynb",
      "version": "0.3.2",
      "provenance": [],
      "collapsed_sections": [],
      "include_colab_link": true
    },
    "kernelspec": {
      "name": "python3",
      "display_name": "Python 3"
    },
    "accelerator": "TPU"
  },
  "cells": [
    {
      "cell_type": "markdown",
      "metadata": {
        "id": "view-in-github",
        "colab_type": "text"
      },
      "source": [
        "<a href=\"https://colab.research.google.com/github/Yoav11/fchollet_deep_learning/blob/master/IMDB_reviews.ipynb\" target=\"_parent\"><img src=\"https://colab.research.google.com/assets/colab-badge.svg\" alt=\"Open In Colab\"/></a>"
      ]
    },
    {
      "cell_type": "markdown",
      "metadata": {
        "id": "dJ7xWUq6rV-E",
        "colab_type": "text"
      },
      "source": [
        "Import required modules"
      ]
    },
    {
      "cell_type": "code",
      "metadata": {
        "id": "ENqcuZ_Ap5D2",
        "colab_type": "code",
        "colab": {}
      },
      "source": [
        "import numpy as np\n",
        "\n",
        "from tensorflow.keras import models\n",
        "from tensorflow.keras import layers\n",
        "from tensorflow.keras.datasets import imdb"
      ],
      "execution_count": 0,
      "outputs": []
    },
    {
      "cell_type": "code",
      "metadata": {
        "id": "gqyYLe-fsY7E",
        "colab_type": "code",
        "colab": {
          "base_uri": "https://localhost:8080/",
          "height": 51
        },
        "outputId": "700e7fcf-97f6-4b63-9da8-1a23dd6eae80"
      },
      "source": [
        "(train_data, train_labels), (test_data, test_labels) = imdb.load_data(num_words=10000)"
      ],
      "execution_count": 5,
      "outputs": [
        {
          "output_type": "stream",
          "text": [
            "Downloading data from https://storage.googleapis.com/tensorflow/tf-keras-datasets/imdb.npz\n",
            "17465344/17464789 [==============================] - 0s 0us/step\n"
          ],
          "name": "stdout"
        }
      ]
    },
    {
      "cell_type": "markdown",
      "metadata": {
        "id": "bg69egePrZa4",
        "colab_type": "text"
      },
      "source": [
        "Prepare the data"
      ]
    },
    {
      "cell_type": "code",
      "metadata": {
        "id": "P2VavEjyrVac",
        "colab_type": "code",
        "colab": {}
      },
      "source": [
        "def vectorize_sequences(sequences, dimension=10000):\n",
        "  results = np.zeros((len(sequences), dimension))\n",
        "  for i, sequence in enumerate(sequences):\n",
        "    results[i, sequence] = 1\n",
        "  return results\n",
        "\n",
        "x_train = vectorize_sequences(train_data)\n",
        "x_test = vectorize_sequences(test_data)\n",
        "\n",
        "y_train = np.asarray(train_labels).astype('float32')\n",
        "y_test = np.asarray(test_labels).astype('float32')"
      ],
      "execution_count": 0,
      "outputs": []
    },
    {
      "cell_type": "markdown",
      "metadata": {
        "id": "--pUh3Yus1Co",
        "colab_type": "text"
      },
      "source": [
        "define the model"
      ]
    },
    {
      "cell_type": "code",
      "metadata": {
        "id": "HEAAaaAxs3tF",
        "colab_type": "code",
        "colab": {
          "base_uri": "https://localhost:8080/",
          "height": 88
        },
        "outputId": "52802909-79a9-4190-992a-e598531a9676"
      },
      "source": [
        "model = models.Sequential([\n",
        "    layers.Dense(16, activation=\"relu\", input_shape=(10000,)),\n",
        "    layers.Dense(16, activation=\"relu\"),\n",
        "    layers.Dense(1, activation=\"sigmoid\")\n",
        "])\n",
        "\n",
        "model.compile(optimizer='rmsprop',\n",
        "              loss=\"binary_crossentropy\",\n",
        "              metrics=['acc'])"
      ],
      "execution_count": 8,
      "outputs": [
        {
          "output_type": "stream",
          "text": [
            "WARNING:tensorflow:From /usr/local/lib/python3.6/dist-packages/tensorflow/python/ops/nn_impl.py:180: add_dispatch_support.<locals>.wrapper (from tensorflow.python.ops.array_ops) is deprecated and will be removed in a future version.\n",
            "Instructions for updating:\n",
            "Use tf.where in 2.0, which has the same broadcast rule as np.where\n"
          ],
          "name": "stdout"
        }
      ]
    },
    {
      "cell_type": "code",
      "metadata": {
        "id": "YFFS6eXSuytJ",
        "colab_type": "code",
        "colab": {
          "base_uri": "https://localhost:8080/",
          "height": 714
        },
        "outputId": "f829d320-a77d-4f1d-e8a0-073478aa3e04"
      },
      "source": [
        "x_val = x_train[:10000]\n",
        "partial_x_train = x_train[10000:]\n",
        "\n",
        "y_val = y_train[:10000]\n",
        "partial_y_train = y_train[10000:]\n",
        "\n",
        "history = model.fit(partial_x_train,\n",
        "                    partial_y_train,\n",
        "                    epochs=20,\n",
        "                    batch_size=512,\n",
        "                    validation_data = (x_val, y_val))"
      ],
      "execution_count": 9,
      "outputs": [
        {
          "output_type": "stream",
          "text": [
            "Train on 15000 samples, validate on 10000 samples\n",
            "Epoch 1/20\n",
            "15000/15000 [==============================] - 2s 163us/sample - loss: 0.5230 - acc: 0.7826 - val_loss: 0.3936 - val_acc: 0.8705\n",
            "Epoch 2/20\n",
            "15000/15000 [==============================] - 2s 135us/sample - loss: 0.3136 - acc: 0.8991 - val_loss: 0.3159 - val_acc: 0.8802\n",
            "Epoch 3/20\n",
            "15000/15000 [==============================] - 2s 133us/sample - loss: 0.2275 - acc: 0.9266 - val_loss: 0.2794 - val_acc: 0.8917\n",
            "Epoch 4/20\n",
            "15000/15000 [==============================] - 2s 133us/sample - loss: 0.1812 - acc: 0.9403 - val_loss: 0.2768 - val_acc: 0.8883\n",
            "Epoch 5/20\n",
            "15000/15000 [==============================] - 2s 131us/sample - loss: 0.1448 - acc: 0.9541 - val_loss: 0.3224 - val_acc: 0.8762\n",
            "Epoch 6/20\n",
            "15000/15000 [==============================] - 2s 130us/sample - loss: 0.1193 - acc: 0.9635 - val_loss: 0.2923 - val_acc: 0.8863\n",
            "Epoch 7/20\n",
            "15000/15000 [==============================] - 2s 131us/sample - loss: 0.1010 - acc: 0.9693 - val_loss: 0.3094 - val_acc: 0.8836\n",
            "Epoch 8/20\n",
            "15000/15000 [==============================] - 2s 133us/sample - loss: 0.0801 - acc: 0.9788 - val_loss: 0.3288 - val_acc: 0.8805\n",
            "Epoch 9/20\n",
            "15000/15000 [==============================] - 2s 131us/sample - loss: 0.0661 - acc: 0.9830 - val_loss: 0.3751 - val_acc: 0.8783\n",
            "Epoch 10/20\n",
            "15000/15000 [==============================] - 2s 132us/sample - loss: 0.0565 - acc: 0.9865 - val_loss: 0.3772 - val_acc: 0.8759\n",
            "Epoch 11/20\n",
            "15000/15000 [==============================] - 2s 131us/sample - loss: 0.0449 - acc: 0.9891 - val_loss: 0.4323 - val_acc: 0.8675\n",
            "Epoch 12/20\n",
            "15000/15000 [==============================] - 2s 131us/sample - loss: 0.0352 - acc: 0.9919 - val_loss: 0.4336 - val_acc: 0.8721\n",
            "Epoch 13/20\n",
            "15000/15000 [==============================] - 2s 130us/sample - loss: 0.0290 - acc: 0.9947 - val_loss: 0.4643 - val_acc: 0.8712\n",
            "Epoch 14/20\n",
            "15000/15000 [==============================] - 2s 130us/sample - loss: 0.0239 - acc: 0.9953 - val_loss: 0.4953 - val_acc: 0.8686\n",
            "Epoch 15/20\n",
            "15000/15000 [==============================] - 2s 132us/sample - loss: 0.0204 - acc: 0.9969 - val_loss: 0.5310 - val_acc: 0.8688\n",
            "Epoch 16/20\n",
            "15000/15000 [==============================] - 2s 130us/sample - loss: 0.0156 - acc: 0.9971 - val_loss: 0.5568 - val_acc: 0.8676\n",
            "Epoch 17/20\n",
            "15000/15000 [==============================] - 2s 130us/sample - loss: 0.0090 - acc: 0.9995 - val_loss: 0.5895 - val_acc: 0.8664\n",
            "Epoch 18/20\n",
            "15000/15000 [==============================] - 2s 131us/sample - loss: 0.0132 - acc: 0.9972 - val_loss: 0.6257 - val_acc: 0.8640\n",
            "Epoch 19/20\n",
            "15000/15000 [==============================] - 2s 130us/sample - loss: 0.0050 - acc: 0.9997 - val_loss: 0.6652 - val_acc: 0.8662\n",
            "Epoch 20/20\n",
            "15000/15000 [==============================] - 2s 132us/sample - loss: 0.0072 - acc: 0.9990 - val_loss: 0.6898 - val_acc: 0.8647\n"
          ],
          "name": "stdout"
        }
      ]
    },
    {
      "cell_type": "code",
      "metadata": {
        "id": "1qp293Jdv2j0",
        "colab_type": "code",
        "colab": {}
      },
      "source": [
        ""
      ],
      "execution_count": 0,
      "outputs": []
    }
  ]
}